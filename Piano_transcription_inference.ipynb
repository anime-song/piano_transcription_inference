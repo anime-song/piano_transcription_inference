{
  "cells": [
    {
      "cell_type": "markdown",
      "metadata": {
        "id": "k43ASej1dc5N"
      },
      "source": [
        "# Install piano_transcription_inference"
      ]
    },
    {
      "cell_type": "code",
      "execution_count": null,
      "metadata": {
        "id": "mXoOV0fOdOFa"
      },
      "outputs": [],
      "source": [
        "!apt install ffmpeg wget\n",
        "!pip install librosa==0.9.2\n",
        "!git clone https://github.com/anime-song/piano_transcription_inference.git\n",
        "%cd piano_transcription_inference\n",
        "!pip install .\n",
        "%cd .."
      ]
    },
    {
      "cell_type": "markdown",
      "metadata": {
        "id": "GgByRF3ylK_S"
      },
      "source": [
        "# Transcribe using code"
      ]
    },
    {
      "cell_type": "code",
      "execution_count": 5,
      "metadata": {
        "id": "_eVSRSRVdWtj"
      },
      "outputs": [],
      "source": [
        "from piano_transcription_inference import PianoTranscription, sample_rate, load_audio\n",
        "from pathlib import Path\n",
        "import os\n",
        "\n",
        "\n",
        "def transcribe(audio_path, output_midi_path):\n",
        "    # Load audio\n",
        "    audio, _ = load_audio(audio_path, sr=sample_rate, mono=True)\n",
        "\n",
        "    # Transcriptor\n",
        "    transcriptor = PianoTranscription(device='cuda', checkpoint_path=None, model_type=\"Regress_onset_offset_frame_velocity_CRNN\")\n",
        "\n",
        "    # Transcribe and write out to MIDI file\n",
        "    transcriptor.transcribe(audio, output_midi_path)"
      ]
    },
    {
      "cell_type": "code",
      "execution_count": null,
      "metadata": {
        "id": "fde2pTIAlkE0"
      },
      "outputs": [],
      "source": [
        "transcribe('test.mp3', 'test.mid')"
      ]
    }
  ],
  "metadata": {
    "accelerator": "GPU",
    "colab": {
      "provenance": [],
      "gpuType": "T4"
    },
    "kernelspec": {
      "display_name": "Python 3",
      "name": "python3"
    }
  },
  "nbformat": 4,
  "nbformat_minor": 0
}